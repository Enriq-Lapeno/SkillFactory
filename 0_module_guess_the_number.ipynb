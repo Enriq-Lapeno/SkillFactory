{
 "cells": [
  {
   "cell_type": "markdown",
   "metadata": {},
   "source": [
    "# 2. Поехали!\n",
    "<center>\n",
    "<img src=\"https://enriq-lapeno.github.io/SkillFactory/dst-w-3_project_0_2.png\" style=\"width: 400px; height: 400px;\"></p>\n",
    "</center>\n",
    "\n",
    "## Угадай число!\n",
    "\n",
    "\n",
    "Итак, компьютер загадывает целое число от 1 до 100, и нам его нужно угадать. Под «угадать», конечно, подразумевается «написать программу, которая угадывает число».\n",
    "\n",
    "Ниже представлен готовый код, который вы можете запустить и сыграть с компьютером:"
   ]
  },
  {
   "cell_type": "code",
   "execution_count": 5,
   "metadata": {},
   "outputs": [
    {
     "name": "stdout",
     "output_type": "stream",
     "text": [
      "Загадано число от 1 до 100\n",
      "40\n",
      "Угадываемое число меньше 40 \n",
      "20\n",
      "Угадываемое число меньше 20 \n",
      "10\n",
      "Угадываемое число меньше 10 \n",
      "4\n",
      "Угадываемое число меньше 4 \n",
      "2\n",
      "Угадываемое число больше 2 \n",
      "3\n",
      "Вы угадали число 3 за 6 попыток.\n"
     ]
    }
   ],
   "source": [
    "import numpy as np\n",
    "\n",
    "count = 0                           # счетчик попыток\n",
    "number = np.random.randint(1,101)   # загадали число\n",
    "print (\"Загадано число от 1 до 100\")\n",
    "    \n",
    "while True:                        # бесконечный цикл\n",
    "    predict = int(input())         # предполагаемое число\n",
    "    count += 1                     # плюсуем попытку\n",
    "    if number == predict: break    # выход из цикла, если угадали\n",
    "    elif number > predict: print (f\"Угадываемое число больше {predict} \")\n",
    "    elif number < predict: print (f\"Угадываемое число меньше {predict} \")\n",
    "            \n",
    "print (f\"Вы угадали число {number} за {count} попыток.\")    "
   ]
  },
  {
   "cell_type": "markdown",
   "metadata": {},
   "source": [
    "Автоматизируем процесс:"
   ]
  },
  {
   "cell_type": "code",
   "execution_count": 9,
   "metadata": {},
   "outputs": [
    {
     "name": "stdout",
     "output_type": "stream",
     "text": [
      "Загадано число от 1 до 100\n",
      "Вы угадали число 70 за 70 попыток.\n"
     ]
    }
   ],
   "source": [
    "import numpy as np\n",
    "\n",
    "number = np.random.randint(1,101)      # загадали число\n",
    "print (\"Загадано число от 1 до 100\")\n",
    "for count in range(1,101):         # более компактный вариант счетчика\n",
    "    if number == count: break      # выход из цикла, если угадали      \n",
    "print (f\"Вы угадали число {number} за {count} попыток.\")    "
   ]
  },
  {
   "cell_type": "markdown",
   "metadata": {},
   "source": [
    "Повторим 1000 раз, чтоб понять, насколько быстро в среднем работает наше решение. Для этого сразу завернём игру в функцию, чтобы её потом было проще менять и к ней обращаться."
   ]
  },
  {
   "cell_type": "code",
   "execution_count": 4,
   "metadata": {},
   "outputs": [],
   "source": [
    "def game_core_v1(number):\n",
    "    '''Просто угадываем на random, никак не используя информацию о больше или меньше.\n",
    "       Функция принимает загаданное число и возвращает число попыток'''\n",
    "    count = 0\n",
    "    while True:\n",
    "        count+=1\n",
    "        predict = np.random.randint(1,101) # предполагаемое число\n",
    "        if number == predict: \n",
    "            return count # выход из цикла, если угадали\n",
    "        \n",
    "        \n",
    "def score_game(game_core):\n",
    "    '''Запускаем игру 1000 раз, чтобы узнать, как быстро игра угадывает число'''\n",
    "    count_ls = []\n",
    "    np.random.seed(1)  # фиксируем RANDOM SEED, чтобы ваш эксперимент был воспроизводим!\n",
    "    random_array = np.random.randint(1,101, size=(1000))\n",
    "    for number in random_array:\n",
    "        count_ls.append(game_core(number))\n",
    "    score = int(np.mean(count_ls))\n",
    "    print(f\"Ваш алгоритм угадывает число в среднем за {score} попыток\")\n",
    "    return(score)"
   ]
  },
  {
   "cell_type": "code",
   "execution_count": 10,
   "metadata": {},
   "outputs": [
    {
     "name": "stdout",
     "output_type": "stream",
     "text": [
      "Ваш алгоритм угадывает число в среднем за 101 попыток\n"
     ]
    },
    {
     "data": {
      "text/plain": [
       "101"
      ]
     },
     "execution_count": 10,
     "metadata": {},
     "output_type": "execute_result"
    }
   ],
   "source": [
    "# запускаем\n",
    "score_game(game_core_v1)"
   ]
  },
  {
   "cell_type": "markdown",
   "metadata": {},
   "source": [
    "Давайте напишем что-то, что учитывает информацию о том, что число больше или меньше нужного нам:"
   ]
  },
  {
   "cell_type": "code",
   "execution_count": 11,
   "metadata": {},
   "outputs": [],
   "source": [
    "def game_core_v2(number):\n",
    "    '''Сначала устанавливаем любое random число, а потом уменьшаем или увеличиваем его \n",
    "       в зависимости от того, больше оно или меньше нужного.\n",
    "       Функция принимает загаданное число и возвращает число попыток'''\n",
    "    count = 1\n",
    "    predict = np.random.randint(1,101)\n",
    "    while number != predict:\n",
    "        count+=1\n",
    "        if number > predict: \n",
    "            predict += 1\n",
    "        elif number < predict: \n",
    "            predict -= 1\n",
    "    return(count) # выход из цикла, если угадали"
   ]
  },
  {
   "cell_type": "code",
   "execution_count": 12,
   "metadata": {
    "scrolled": true
   },
   "outputs": [
    {
     "name": "stdout",
     "output_type": "stream",
     "text": [
      "Ваш алгоритм угадывает число в среднем за 33 попыток\n"
     ]
    },
    {
     "data": {
      "text/plain": [
       "33"
      ]
     },
     "execution_count": 12,
     "metadata": {},
     "output_type": "execute_result"
    }
   ],
   "source": [
    "# запускаем\n",
    "score_game(game_core_v2)"
   ]
  },
  {
   "cell_type": "markdown",
   "metadata": {},
   "source": [
    "# 3. Итоговое задание\n",
    "<center>\n",
    "<img style=\"width: 350px; height: 350px;\" src=\"https://enriq-lapeno.github.io/SkillFactory/dst-w-3_project_0_3.png\"></p>\n",
    "</center>\n",
    "\n",
    "Теперь, используя логику, представленную выше, а также полученные вами знания программирования, попробуйте улучшить <b>алгоритм автора модуля</b>. Уверены, у вас получится!"
   ]
  },
  {
   "cell_type": "markdown",
   "metadata": {},
   "source": [
    "### !!!\n",
    "\n",
    "<i>Кстати, если в пятой строчке функции \"game_core_v2\" уменьшить диапозон предполагаемого random-числа, например с 33 до 66, то<br>\n",
    "    ..то наш алгоритм будет угадывать число за меньшее чем 30 попыток\n",
    "</i>\n",
    "\n",
    "думаю, что это наблюдение нам тоже пригодиться"
   ]
  },
  {
   "cell_type": "code",
   "execution_count": 17,
   "metadata": {},
   "outputs": [
    {
     "name": "stdout",
     "output_type": "stream",
     "text": [
      "Ваш алгоритм угадывает число в среднем за 26 попыток\n"
     ]
    },
    {
     "data": {
      "text/plain": [
       "26"
      ]
     },
     "execution_count": 17,
     "metadata": {},
     "output_type": "execute_result"
    }
   ],
   "source": [
    "import numpy as np\n",
    "\n",
    "def game_core_v21(number):\n",
    "    count = 1\n",
    "    predict = np.random.randint(33,67)\n",
    "    while number != predict:\n",
    "        count+=1\n",
    "        if number > predict: \n",
    "            predict += 1\n",
    "        elif number < predict: \n",
    "            predict -= 1\n",
    "    return(count) # выход из цикла, если угадали\n",
    "\n",
    "score_game(game_core_v21)"
   ]
  },
  {
   "cell_type": "markdown",
   "metadata": {},
   "source": [
    "Ну что ж, теперь попробуем изменим алгоритм вот так:"
   ]
  },
  {
   "cell_type": "code",
   "execution_count": 30,
   "metadata": {},
   "outputs": [],
   "source": [
    "import numpy as np\n",
    "import math as m \n",
    "\"\"\" подключим библиотеку math, что бы вызывать функцию ceil(),\n",
    "                которая округляет число до максимального значения. \n",
    "                на случай если наш шаг поиска step станет меньше 1, то всё равно - округлять до единицы\"\"\"\n",
    "\n",
    "def game_core_v3(number):\n",
    "    count = 0                            # счетчик попыток\n",
    "    predict = np.random.randint(33,67)   # загадали число\n",
    "    step = 1                             # шаг с которым мы будем отталкиваться от предполагаемого числа в поиске\n",
    "    more = 100                           # максимальное значение границы поиска\n",
    "    less = 1                             # минимальное значение границы поиска\n",
    "    while number!=predict:\n",
    "        count+=1\n",
    "        if predict < number:\n",
    "            less = predict               #устанавливаем границу минимального значения\n",
    "            step = m.ceil((more-less)/2) #вычисляем шаг поиска, где-то посередине\n",
    "            predict = predict + step\n",
    "        elif predict > number:\n",
    "            more = predict               #устанавливаем границу максимального значения\n",
    "            step = m.ceil((more-less)/2)\n",
    "            predict = predict - step\n",
    "    return(count)"
   ]
  },
  {
   "cell_type": "code",
   "execution_count": 31,
   "metadata": {},
   "outputs": [
    {
     "name": "stdout",
     "output_type": "stream",
     "text": [
      "Ваш алгоритм угадывает число в среднем за 4 попыток\n"
     ]
    },
    {
     "data": {
      "text/plain": [
       "4"
      ]
     },
     "execution_count": 31,
     "metadata": {},
     "output_type": "execute_result"
    }
   ],
   "source": [
    "score_game(game_core_v3)"
   ]
  }
 ],
 "metadata": {
  "kernelspec": {
   "display_name": "Python 3",
   "language": "python",
   "name": "python3"
  },
  "language_info": {
   "codemirror_mode": {
    "name": "ipython",
    "version": 3
   },
   "file_extension": ".py",
   "mimetype": "text/x-python",
   "name": "python",
   "nbconvert_exporter": "python",
   "pygments_lexer": "ipython3",
   "version": "3.8.5"
  }
 },
 "nbformat": 4,
 "nbformat_minor": 4
}
